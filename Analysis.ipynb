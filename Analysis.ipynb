{
 "cells": [
  {
   "cell_type": "markdown",
   "metadata": {},
   "source": [
    "# Project description\n",
    "\n",
    "Beta Bank customers are leaving: little by little, chipping away every month. The bankers figured out it’s cheaper to save the existing customers rather than to attract new ones.\n",
    "\n",
    "We need to predict whether a customer will leave the bank soon. We have the data on clients’ past behavior and termination of contracts with the bank.\n"
   ]
  },
  {
   "cell_type": "markdown",
   "metadata": {},
   "source": [
    "## Data description\n",
    "\n",
    "\n",
    "The data can be found in /datasets/Churn.csv file. Download the dataset.\n",
    "\n",
    "Features:\n",
    "\n",
    "- RowNumber — data string index\n",
    "- CustomerId — unique customer identifier\n",
    "- Surname — surname\n",
    "- CreditScore — credit score\n",
    "- Geography — country of residence\n",
    "- Gender — gender\n",
    "- Age — age\n",
    "- Tenure — period of maturation for a customer’s fixed deposit (years)\n",
    "- Balance — account balance\n",
    "- NumOfProducts — number of banking products used by the customer\n",
    "- HasCrCard — customer has a credit card\n",
    "- IsActiveMember — customer’s activeness\n",
    "- EstimatedSalary — estimated salary\n",
    "\n",
    "\n",
    "Target:\n",
    "\n",
    "- Exited — сustomer has left\n"
   ]
  },
  {
   "cell_type": "code",
   "execution_count": 2,
   "metadata": {},
   "outputs": [
    {
     "name": "stdout",
     "output_type": "stream",
     "text": [
      "Collecting imblearn\n",
      "  Downloading imblearn-0.0-py2.py3-none-any.whl.metadata (355 bytes)\n",
      "Collecting imbalanced-learn (from imblearn)\n",
      "  Downloading imbalanced_learn-0.12.3-py3-none-any.whl.metadata (8.3 kB)\n",
      "Requirement already satisfied: numpy>=1.17.3 in /opt/conda/envs/python3/lib/python3.9/site-packages (from imbalanced-learn->imblearn) (1.21.2)\n",
      "Requirement already satisfied: scipy>=1.5.0 in /opt/conda/envs/python3/lib/python3.9/site-packages (from imbalanced-learn->imblearn) (1.10.1)\n",
      "Collecting scikit-learn>=1.0.2 (from imbalanced-learn->imblearn)\n",
      "  Downloading scikit_learn-1.5.1-cp39-cp39-manylinux_2_17_x86_64.manylinux2014_x86_64.whl.metadata (12 kB)\n",
      "Requirement already satisfied: joblib>=1.1.1 in /opt/conda/envs/python3/lib/python3.9/site-packages (from imbalanced-learn->imblearn) (1.4.2)\n",
      "Requirement already satisfied: threadpoolctl>=2.0.0 in /opt/conda/envs/python3/lib/python3.9/site-packages (from imbalanced-learn->imblearn) (3.5.0)\n",
      "Downloading imblearn-0.0-py2.py3-none-any.whl (1.9 kB)\n",
      "Downloading imbalanced_learn-0.12.3-py3-none-any.whl (258 kB)\n",
      "\u001b[2K   \u001b[90m━━━━━━━━━━━━━━━━━━━━━━━━━━━━━━━━━━━━━━━━\u001b[0m \u001b[32m258.3/258.3 kB\u001b[0m \u001b[31m24.3 MB/s\u001b[0m eta \u001b[36m0:00:00\u001b[0m\n",
      "\u001b[?25hDownloading scikit_learn-1.5.1-cp39-cp39-manylinux_2_17_x86_64.manylinux2014_x86_64.whl (13.4 MB)\n",
      "\u001b[2K   \u001b[90m━━━━━━━━━━━━━━━━━━━━━━━━━━━━━━━━━━━━━━━━\u001b[0m \u001b[32m13.4/13.4 MB\u001b[0m \u001b[31m73.2 MB/s\u001b[0m eta \u001b[36m0:00:00\u001b[0m:00:01\u001b[0m00:01\u001b[0m\n",
      "\u001b[?25hInstalling collected packages: scikit-learn, imbalanced-learn, imblearn\n",
      "Successfully installed imbalanced-learn-0.12.3 imblearn-0.0 scikit-learn-1.5.1\n",
      "Note: you may need to restart the kernel to use updated packages.\n"
     ]
    }
   ],
   "source": [
    "pip install imblearn --user"
   ]
  },
  {
   "cell_type": "code",
   "execution_count": 1,
   "metadata": {},
   "outputs": [],
   "source": [
    "import pandas as pd\n",
    "import matplotlib.pyplot as plt\n",
    "from sklearn.model_selection import train_test_split\n",
    "from sklearn.ensemble import RandomForestClassifier\n",
    "from sklearn.metrics import f1_score, roc_auc_score, roc_curve\n",
    "from imblearn.over_sampling import SMOTE\n",
    "from imblearn.under_sampling import RandomUnderSampler\n",
    "from imblearn.pipeline import Pipeline\n",
    "from sklearn.model_selection import GridSearchCV"
   ]
  },
  {
   "cell_type": "code",
   "execution_count": 6,
   "metadata": {},
   "outputs": [],
   "source": [
    "try:\n",
    "    data = pd.read_csv('/datasets/Churn.csv', sep=',')\n",
    "\n",
    "except FileNotFoundError:\n",
    "    data = pd.read_csv('https://practicum-content.s3.us-west-1.amazonaws.com/datasets/Churn.csv', sep=',')"
   ]
  },
  {
   "cell_type": "code",
   "execution_count": 7,
   "metadata": {},
   "outputs": [
    {
     "name": "stdout",
     "output_type": "stream",
     "text": [
      "<class 'pandas.core.frame.DataFrame'>\n",
      "RangeIndex: 10000 entries, 0 to 9999\n",
      "Data columns (total 14 columns):\n",
      " #   Column           Non-Null Count  Dtype  \n",
      "---  ------           --------------  -----  \n",
      " 0   RowNumber        10000 non-null  int64  \n",
      " 1   CustomerId       10000 non-null  int64  \n",
      " 2   Surname          10000 non-null  object \n",
      " 3   CreditScore      10000 non-null  int64  \n",
      " 4   Geography        10000 non-null  object \n",
      " 5   Gender           10000 non-null  object \n",
      " 6   Age              10000 non-null  int64  \n",
      " 7   Tenure           9091 non-null   float64\n",
      " 8   Balance          10000 non-null  float64\n",
      " 9   NumOfProducts    10000 non-null  int64  \n",
      " 10  HasCrCard        10000 non-null  int64  \n",
      " 11  IsActiveMember   10000 non-null  int64  \n",
      " 12  EstimatedSalary  10000 non-null  float64\n",
      " 13  Exited           10000 non-null  int64  \n",
      "dtypes: float64(3), int64(8), object(3)\n",
      "memory usage: 1.1+ MB\n"
     ]
    }
   ],
   "source": [
    "data.info()"
   ]
  },
  {
   "cell_type": "code",
   "execution_count": 8,
   "metadata": {},
   "outputs": [
    {
     "name": "stdout",
     "output_type": "stream",
     "text": [
      "RowNumber            0\n",
      "CustomerId           0\n",
      "Surname              0\n",
      "CreditScore          0\n",
      "Geography            0\n",
      "Gender               0\n",
      "Age                  0\n",
      "Tenure             909\n",
      "Balance              0\n",
      "NumOfProducts        0\n",
      "HasCrCard            0\n",
      "IsActiveMember       0\n",
      "EstimatedSalary      0\n",
      "Exited               0\n",
      "dtype: int64\n"
     ]
    }
   ],
   "source": [
    "print(data.isnull().sum())"
   ]
  },
  {
   "cell_type": "code",
   "execution_count": 9,
   "metadata": {},
   "outputs": [],
   "source": [
    "# Fill missing values in 'Tenure' column with the median\n",
    "data['Tenure'].fillna(data['Tenure'].median(), inplace=True)"
   ]
  },
  {
   "cell_type": "code",
   "execution_count": 10,
   "metadata": {},
   "outputs": [
    {
     "name": "stdout",
     "output_type": "stream",
     "text": [
      "RowNumber          0\n",
      "CustomerId         0\n",
      "Surname            0\n",
      "CreditScore        0\n",
      "Geography          0\n",
      "Gender             0\n",
      "Age                0\n",
      "Tenure             0\n",
      "Balance            0\n",
      "NumOfProducts      0\n",
      "HasCrCard          0\n",
      "IsActiveMember     0\n",
      "EstimatedSalary    0\n",
      "Exited             0\n",
      "dtype: int64\n"
     ]
    }
   ],
   "source": [
    "print(data.isnull().sum())"
   ]
  },
  {
   "cell_type": "code",
   "execution_count": 11,
   "metadata": {},
   "outputs": [],
   "source": [
    "# Drop unnecessary columns\n",
    "data = data.drop(['RowNumber', 'CustomerId', 'Surname'], axis=1)"
   ]
  },
  {
   "cell_type": "code",
   "execution_count": 12,
   "metadata": {},
   "outputs": [],
   "source": [
    "# Encode categorical variables\n",
    "data = pd.get_dummies(data)"
   ]
  },
  {
   "cell_type": "code",
   "execution_count": 13,
   "metadata": {},
   "outputs": [],
   "source": [
    "X = data.drop('Exited', axis=1)\n",
    "y = data['Exited']\n",
    "X_train, X_test, y_train, y_test = train_test_split(X, y, test_size=0.2, random_state=42)"
   ]
  },
  {
   "cell_type": "code",
   "execution_count": 14,
   "metadata": {},
   "outputs": [
    {
     "name": "stdout",
     "output_type": "stream",
     "text": [
      "0    7963\n",
      "1    2037\n",
      "Name: Exited, dtype: int64\n"
     ]
    }
   ],
   "source": [
    "# Examine the balance of classes\n",
    "print(data['Exited'].value_counts())"
   ]
  },
  {
   "cell_type": "code",
   "execution_count": 15,
   "metadata": {},
   "outputs": [
    {
     "name": "stdout",
     "output_type": "stream",
     "text": [
      "F1 Score: 0.5864197530864198\n"
     ]
    }
   ],
   "source": [
    "# Build a model with the maximum possible F1 score\n",
    "model = RandomForestClassifier(random_state=42)\n",
    "model.fit(X_train, y_train)\n",
    "y_pred = model.predict(X_test)\n",
    "f1 = f1_score(y_test, y_pred)\n",
    "print('F1 Score:', f1)"
   ]
  },
  {
   "cell_type": "markdown",
   "metadata": {},
   "source": [
    "the Random Forest Classifier model achieved an F1 score of 0.5864"
   ]
  },
  {
   "cell_type": "code",
   "execution_count": 16,
   "metadata": {},
   "outputs": [
    {
     "name": "stdout",
     "output_type": "stream",
     "text": [
      "AUC-ROC Score: 0.8611885659273755\n"
     ]
    }
   ],
   "source": [
    "# Measure the AUC-ROC metric and compare it with the F1\n",
    "auc_roc = roc_auc_score(y_test, model.predict_proba(X_test)[:, 1])\n",
    "print('AUC-ROC Score:', auc_roc)"
   ]
  },
  {
   "cell_type": "markdown",
   "metadata": {},
   "source": [
    "the AUC-ROC score of 0.8611885659273755 indicates that the model has a good ability to distinguish between the positive and negative classes."
   ]
  },
  {
   "cell_type": "code",
   "execution_count": 17,
   "metadata": {},
   "outputs": [
    {
     "data": {
      "image/png": "[encoded data removed]",
      "text/plain": [
       "<Figure size 640x480 with 1 Axes>"
      ]
     },
     "metadata": {},
     "output_type": "display_data"
    }
   ],
   "source": [
    "# Add ROC Curve\n",
    "fpr, tpr, thresholds = roc_curve(y_test, y_pred)\n",
    "plt.plot(fpr, tpr, label='ROC Curve')\n",
    "plt.plot([0, 1], [0, 1], color='navy', linestyle='--')\n",
    "plt.xlabel('False Positive Rate')\n",
    "plt.ylabel('True Positive Rate')\n",
    "plt.title('ROC Curve')\n",
    "plt.legend()\n",
    "plt.show()"
   ]
  },
  {
   "cell_type": "code",
   "execution_count": 18,
   "metadata": {},
   "outputs": [
    {
     "name": "stdout",
     "output_type": "stream",
     "text": [
      "Imbalanced F1 Score: 0.5864197530864198\n"
     ]
    }
   ],
   "source": [
    "# Train the model without taking into account the imbalance\n",
    "model_imbalanced = RandomForestClassifier(random_state=42, class_weight=None)\n",
    "model_imbalanced.fit(X_train, y_train)\n",
    "y_pred_imbalanced = model_imbalanced.predict(X_test)\n",
    "f1_imbalanced = f1_score(y_test, y_pred_imbalanced)\n",
    "print('Imbalanced F1 Score:', f1_imbalanced)"
   ]
  },
  {
   "cell_type": "markdown",
   "metadata": {},
   "source": [
    "when training the model without taking into account the class imbalance, the F1 score obtained was 0.5864. This implies that the model may not perform as well in predicting the minority class due to the imbalance in class distribution."
   ]
  },
  {
   "cell_type": "code",
   "execution_count": 19,
   "metadata": {},
   "outputs": [
    {
     "name": "stdout",
     "output_type": "stream",
     "text": [
      "SMOTE F1 Score: 0.6052269601100413\n"
     ]
    }
   ],
   "source": [
    "# Improve the quality of the model\n",
    "# Approach 1: SMOTE\n",
    "model_smote = Pipeline([\n",
    "    ('sampling', SMOTE(random_state=42)),\n",
    "    ('classification', RandomForestClassifier(random_state=42))\n",
    "])\n",
    "model_smote.fit(X_train, y_train)\n",
    "y_pred_smote = model_smote.predict(X_test)\n",
    "f1_smote = f1_score(y_test, y_pred_smote)\n",
    "print('SMOTE F1 Score:', f1_smote)"
   ]
  },
  {
   "cell_type": "markdown",
   "metadata": {},
   "source": [
    "the SMOTE technique improved the quality of the model, shown promising results with an F1 score of 0.6052."
   ]
  },
  {
   "cell_type": "code",
   "execution_count": 20,
   "metadata": {},
   "outputs": [
    {
     "name": "stdout",
     "output_type": "stream",
     "text": [
      "Random Under-Sampling F1 Score: 0.5929549902152642\n"
     ]
    }
   ],
   "source": [
    "# Approach 2: Random Under-Sampling\n",
    "model_rus = Pipeline([\n",
    "    ('sampling', RandomUnderSampler(random_state=42)),\n",
    "    ('classification', RandomForestClassifier(random_state=42))\n",
    "])\n",
    "model_rus.fit(X_train, y_train)\n",
    "y_pred_rus = model_rus.predict(X_test)\n",
    "f1_rus = f1_score(y_test, y_pred_rus)\n",
    "print('Random Under-Sampling F1 Score:', f1_rus)"
   ]
  },
  {
   "cell_type": "markdown",
   "metadata": {},
   "source": [
    "the Random Under-Sampling with a F1 Score of 0.5929 has shown to be a good method in addressing the issue of imbalanced datasets and improving the model's performance in classification tasks."
   ]
  },
  {
   "cell_type": "code",
   "execution_count": 24,
   "metadata": {},
   "outputs": [
    {
     "name": "stdout",
     "output_type": "stream",
     "text": [
      "Pipeline(steps=[('sampling', SMOTE(random_state=42)),\n",
      "                ('classification',\n",
      "                 RandomForestClassifier(max_depth=10, n_estimators=200,\n",
      "                                        random_state=42))])\n"
     ]
    }
   ],
   "source": [
    "# Use the training set to pick the best parameters\n",
    "param_grid = {\n",
    "    'classification__n_estimators': [50, 100, 200],\n",
    "    'classification__max_depth': [5, 10, 15, 20]\n",
    "}\n",
    "grid_search = GridSearchCV(model_smote, param_grid, cv=3, scoring='f1')\n",
    "grid_search.fit(X_train, y_train)\n",
    "best_model = grid_search.best_estimator_\n",
    "print(best_model)"
   ]
  },
  {
   "cell_type": "markdown",
   "metadata": {},
   "source": [
    "we were able to identify the best model with optimized parameters for our classification task. The selected model, a Random Forest Classifier with a maximum depth of 10 and 200 estimators, was determined to be the most suitable for our dataset based on the F1 scoring metric"
   ]
  },
  {
   "cell_type": "code",
   "execution_count": 22,
   "metadata": {},
   "outputs": [
    {
     "name": "stdout",
     "output_type": "stream",
     "text": [
      "SMOTE Validation F1 Score: 0.6106623586429726\n",
      "Random Under-Sampling Validation F1 Score: 0.5940119760479042\n"
     ]
    }
   ],
   "source": [
    "# Train different models on training and validation sets\n",
    "X_train_smote, X_val_smote, y_train_smote, y_val_smote = train_test_split(X_train, y_train, test_size=0.2, random_state=42)\n",
    "X_train_rus, X_val_rus, y_train_rus, y_val_rus = train_test_split(X_train, y_train, test_size=0.2, random_state=42)\n",
    "\n",
    "model_smote.fit(X_train_smote, y_train_smote)\n",
    "model_rus.fit(X_train_rus, y_train_rus)\n",
    "\n",
    "f1_val_smote = f1_score(y_val_smote, model_smote.predict(X_val_smote))\n",
    "f1_val_rus = f1_score(y_val_rus, model_rus.predict(X_val_rus))\n",
    "\n",
    "print('SMOTE Validation F1 Score:', f1_val_smote)\n",
    "print('Random Under-Sampling Validation F1 Score:', f1_val_rus)"
   ]
  },
  {
   "cell_type": "markdown",
   "metadata": {},
   "source": [
    "we found that the SMOTE model had a slightly higher F1 score of 0.6106623586429726 compared to the Random Under-Sampling model's F1 score of 0.5940119760479042. This suggests that the SMOTE approach may be more effective in improving model performance for our dataset."
   ]
  },
  {
   "cell_type": "code",
   "execution_count": 23,
   "metadata": {},
   "outputs": [
    {
     "name": "stdout",
     "output_type": "stream",
     "text": [
      "SMOTE Final Test F1 Score: 0.6043360433604336\n",
      "Random Under-Sampling Final Test F1 Score: 0.5733722060252673\n"
     ]
    }
   ],
   "source": [
    "# Perform the final testing\n",
    "f1_final_smote = f1_score(y_test, model_smote.predict(X_test))\n",
    "f1_final_rus = f1_score(y_test, model_rus.predict(X_test))\n",
    "\n",
    "print('SMOTE Final Test F1 Score:', f1_final_smote)\n",
    "print('Random Under-Sampling Final Test F1 Score:', f1_final_rus)"
   ]
  },
  {
   "cell_type": "markdown",
   "metadata": {},
   "source": [
    "the final testing results show that the SMOTE technique performed better in terms of F1 score compared to Random Under-Sampling."
   ]
  },
  {
   "cell_type": "markdown",
   "metadata": {},
   "source": [
    "# conclusion\n",
    "\n",
    "Our evaluation of different techniques for dealing with imbalanced datasets in the Random Forest Classifier model has shown that both SMOTE and Random Under-Sampling can effectively improve model performance. The SMOTE technique, in particular, demonstrated a slightly higher F1 score compared to Random Under-Sampling in our classification task. By selecting the best model with optimized parameters, we were able to enhance the model's ability to distinguish between positive and negative classes. Overall, these findings highlight the importance of addressing class imbalance in machine learning models to achieve better performance in classification tasks."
   ]
  }
 ],
 "metadata": {
  "ExecuteTimeLog": [
   {
    "duration": 1219,
    "start_time": "2024-07-29T23:26:23.019Z"
   },
   {
    "duration": 39,
    "start_time": "2024-07-29T23:28:41.007Z"
   },
   {
    "duration": 18,
    "start_time": "2024-07-29T23:31:32.904Z"
   },
   {
    "duration": 9,
    "start_time": "2024-07-30T00:04:53.503Z"
   },
   {
    "duration": 2144,
    "start_time": "2024-07-30T04:39:33.533Z"
   },
   {
    "duration": 59,
    "start_time": "2024-07-30T04:41:19.670Z"
   },
   {
    "duration": 38,
    "start_time": "2024-07-30T04:41:23.331Z"
   },
   {
    "duration": 40,
    "start_time": "2024-07-30T04:41:38.284Z"
   },
   {
    "duration": 6373,
    "start_time": "2024-07-30T04:44:38.191Z"
   },
   {
    "duration": 40,
    "start_time": "2024-07-30T04:44:54.327Z"
   },
   {
    "duration": 5830,
    "start_time": "2024-07-30T04:45:25.264Z"
   },
   {
    "duration": 5836,
    "start_time": "2024-07-30T04:45:58.206Z"
   },
   {
    "duration": 6536,
    "start_time": "2024-07-30T04:46:29.671Z"
   },
   {
    "duration": 2091,
    "start_time": "2024-07-30T04:46:52.244Z"
   },
   {
    "duration": 5864,
    "start_time": "2024-07-30T04:47:32.049Z"
   },
   {
    "duration": 57,
    "start_time": "2024-07-30T04:47:44.235Z"
   },
   {
    "duration": 6813,
    "start_time": "2024-07-30T04:58:23.627Z"
   },
   {
    "duration": 28,
    "start_time": "2024-07-30T04:58:38.250Z"
   },
   {
    "duration": 1185,
    "start_time": "2024-07-30T04:58:49.426Z"
   },
   {
    "duration": 5392,
    "start_time": "2024-07-30T16:38:42.395Z"
   },
   {
    "duration": 7174,
    "start_time": "2024-07-30T16:38:54.611Z"
   },
   {
    "duration": 36,
    "start_time": "2024-07-30T16:39:04.558Z"
   },
   {
    "duration": 24,
    "start_time": "2024-07-30T16:39:07.296Z"
   },
   {
    "duration": 1393,
    "start_time": "2024-07-30T16:39:17.151Z"
   },
   {
    "duration": 40,
    "start_time": "2024-07-30T16:39:21.665Z"
   },
   {
    "duration": 22,
    "start_time": "2024-07-30T16:39:24.638Z"
   },
   {
    "duration": 9,
    "start_time": "2024-07-30T16:39:29.214Z"
   },
   {
    "duration": 423,
    "start_time": "2024-07-30T16:39:43.850Z"
   },
   {
    "duration": 24,
    "start_time": "2024-07-30T16:40:24.833Z"
   },
   {
    "duration": 16,
    "start_time": "2024-07-30T16:40:26.629Z"
   },
   {
    "duration": 10,
    "start_time": "2024-07-30T16:40:28.353Z"
   },
   {
    "duration": 6,
    "start_time": "2024-07-30T16:40:29.676Z"
   },
   {
    "duration": 11,
    "start_time": "2024-07-30T16:40:40.312Z"
   },
   {
    "duration": 5,
    "start_time": "2024-07-30T16:40:56.652Z"
   },
   {
    "duration": 14,
    "start_time": "2024-07-30T16:41:14.047Z"
   },
   {
    "duration": 10,
    "start_time": "2024-07-30T16:41:36.046Z"
   },
   {
    "duration": 6,
    "start_time": "2024-07-30T16:42:09.051Z"
   },
   {
    "duration": 1372,
    "start_time": "2024-07-30T17:12:45.618Z"
   },
   {
    "duration": 50,
    "start_time": "2024-07-30T17:13:03.323Z"
   },
   {
    "duration": 216,
    "start_time": "2024-07-30T17:13:15.662Z"
   },
   {
    "duration": 1374,
    "start_time": "2024-07-30T17:13:29.852Z"
   },
   {
    "duration": 2099,
    "start_time": "2024-07-30T17:13:50.018Z"
   },
   {
    "duration": 678,
    "start_time": "2024-07-30T17:14:03.975Z"
   },
   {
    "duration": 52881,
    "start_time": "2024-07-30T17:14:19.512Z"
   },
   {
    "duration": 2259,
    "start_time": "2024-07-30T17:15:12.396Z"
   },
   {
    "duration": 92,
    "start_time": "2024-07-30T17:16:24.383Z"
   },
   {
    "duration": 52656,
    "start_time": "2024-07-30T17:28:27.567Z"
   },
   {
    "duration": 17,
    "start_time": "2024-07-30T19:21:43.154Z"
   },
   {
    "duration": 5,
    "start_time": "2024-07-30T19:25:57.882Z"
   },
   {
    "duration": 4,
    "start_time": "2024-07-30T19:28:24.012Z"
   },
   {
    "duration": 5,
    "start_time": "2024-07-30T19:30:17.992Z"
   },
   {
    "duration": 6,
    "start_time": "2024-07-30T19:30:33.373Z"
   },
   {
    "duration": 7,
    "start_time": "2024-07-30T19:32:41.840Z"
   },
   {
    "duration": 6,
    "start_time": "2024-07-30T19:32:44.784Z"
   },
   {
    "duration": 5,
    "start_time": "2024-07-30T19:33:28.835Z"
   },
   {
    "duration": 6,
    "start_time": "2024-07-30T19:34:02.374Z"
   }
  ],
  "kernelspec": {
   "display_name": "Python 3 (ipykernel)",
   "language": "python",
   "name": "python3"
  },
  "language_info": {
   "codemirror_mode": {
    "name": "ipython",
    "version": 3
   },
   "file_extension": ".py",
   "mimetype": "text/x-python",
   "name": "python",
   "nbconvert_exporter": "python",
   "pygments_lexer": "ipython3",
   "version": "3.9.19"
  },
  "toc": {
   "base_numbering": 1,
   "nav_menu": {},
   "number_sections": true,
   "sideBar": true,
   "skip_h1_title": true,
   "title_cell": "Table of Contents",
   "title_sidebar": "Contents",
   "toc_cell": false,
   "toc_position": {},
   "toc_section_display": true,
   "toc_window_display": false
  }
 },
 "nbformat": 4,
 "nbformat_minor": 2
}
